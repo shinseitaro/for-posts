{
  "cells": [
    {
      "cell_type": "markdown",
      "metadata": {
        "colab_type": "text",
        "id": "view-in-github"
      },
      "source": [
        "<a href=\"https://colab.research.google.com/github/shinseitaro/for-posts/blob/main/note/limit_order_test.ipynb\" target=\"_parent\"><img src=\"https://colab.research.google.com/assets/colab-badge.svg\" alt=\"Open In Colab\"/></a>"
      ]
    },
    {
      "cell_type": "markdown",
      "metadata": {
        "id": "oBk4T2uIT72Y"
      },
      "source": [
        "\n",
        "# backtesting.py で 指値注文\n",
        "\n",
        "DOC: [backtesting.backtesting API documentation](https://kernc.github.io/backtesting.py/doc/backtesting/backtesting.html#backtesting.backtesting.Strategy.buy)\n",
        "\n",
        "## 仕様\n",
        "\n",
        "- デフォルトは Good Till Canceled \n",
        "- 発注済みの注文の変更をしたい場合は、いったんキャンセルしてから新しい発注を出す必要がある"
      ]
    },
    {
      "cell_type": "code",
      "execution_count": null,
      "metadata": {},
      "outputs": [],
      "source": [
        "import pandas \n",
        "import os \n"
      ]
    },
    {
      "cell_type": "code",
      "execution_count": null,
      "metadata": {},
      "outputs": [],
      "source": []
    },
    {
      "cell_type": "code",
      "execution_count": null,
      "metadata": {},
      "outputs": [],
      "source": []
    }
  ],
  "metadata": {
    "colab": {
      "authorship_tag": "ABX9TyNVwF+rbW1dCKj3KVD14xnz",
      "include_colab_link": true,
      "name": "limit_order.ipynb",
      "provenance": []
    },
    "kernelspec": {
      "display_name": "Python 3",
      "name": "python3"
    },
    "language_info": {
      "name": "python",
      "version": "3.9.7"
    }
  },
  "nbformat": 4,
  "nbformat_minor": 0
}
