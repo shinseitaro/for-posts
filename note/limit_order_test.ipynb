{
  "nbformat": 4,
  "nbformat_minor": 0,
  "metadata": {
    "colab": {
      "name": "limit_order.ipynb",
      "provenance": [],
      "authorship_tag": "ABX9TyNVwF+rbW1dCKj3KVD14xnz",
      "include_colab_link": true
    },
    "kernelspec": {
      "name": "python3",
      "display_name": "Python 3"
    },
    "language_info": {
      "name": "python"
    }
  },
  "cells": [
    {
      "cell_type": "markdown",
      "metadata": {
        "id": "view-in-github",
        "colab_type": "text"
      },
      "source": [
        "<a href=\"https://colab.research.google.com/github/shinseitaro/for-posts/blob/main/note/limit_order_test.ipynb\" target=\"_parent\"><img src=\"https://colab.research.google.com/assets/colab-badge.svg\" alt=\"Open In Colab\"/></a>"
      ]
    },
    {
      "cell_type": "markdown",
      "source": [
        "\n",
        "# backtesting.py で 指値注文\n",
        "\n",
        "DOC: [backtesting.backtesting API documentation](https://kernc.github.io/backtesting.py/doc/backtesting/backtesting.html#backtesting.backtesting.Strategy.buy)\n",
        "\n",
        "## 仕様\n",
        "\n",
        "- デフォルトは Good Till Canceled \n",
        "- 発注済みの注文の変更をしたい場合は、いったんキャンセルしてから新しい発注を出す必要がある"
      ],
      "metadata": {
        "id": "oBk4T2uIT72Y"
      }
    }
  ]
}