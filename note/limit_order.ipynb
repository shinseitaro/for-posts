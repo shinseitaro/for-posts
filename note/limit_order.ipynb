{
 "cells": [
  {
   "cell_type": "markdown",
   "metadata": {},
   "source": [
    "# backtesting.py で 指値注文\n",
    "\n",
    "DOC: [backtesting.backtesting API documentation](https://kernc.github.io/backtesting.py/doc/backtesting/backtesting.html#backtesting.backtesting.Strategy.buy)\n",
    "\n",
    "## 仕様\n",
    "\n",
    "- デフォルトは Good Till Canceled \n",
    "- 発注済みの注文の変更をしたい場合は、いったんキャンセルしてから新しい発注を出す必要がある\n"
   ]
  },
  {
   "cell_type": "markdown",
   "metadata": {},
   "source": [
    "## テスト\n",
    "\n",
    "1. 15分足のBTC-PERPの指値注文を出す"
   ]
  },
  {
   "cell_type": "code",
   "execution_count": 2,
   "metadata": {},
   "outputs": [],
   "source": [
    "import pandas as pd\n",
    "import ccxt\n",
    "\n",
    "\n",
    "def data_to_df(data):\n",
    "    \"\"\"CCXTから取得したデータをDataFrameに変換\"\"\"\n",
    "\n",
    "    df = pd.DataFrame(\n",
    "        data, columns=[\"Date Time\", \"Open\", \"High\", \"Low\", \"Close\", \"Volume\"]\n",
    "    )\n",
    "    df[\"Date Time\"] = pd.to_datetime(df[\"Date Time\"] / 1000, unit=\"s\")\n",
    "    df.set_index(\"Date Time\", inplace=True)\n",
    "    return df\n",
    "\n",
    "\n",
    "def get_data(ticker, timeframe=\"15m\"):\n",
    "    # 取引所のリミットレート(アクセス制限)を超えないように設定\n",
    "    exchange = ccxt.ftx({\"enableRateLimit\": True})\n",
    "    df = data_to_df(\n",
    "        exchange.fetch_ohlcv(\n",
    "            ticker, \n",
    "            timeframe=timeframe, \n",
    "            params={\"reverse\": False})\n",
    "    )\n",
    "    return df"
   ]
  },
  {
   "cell_type": "code",
   "execution_count": 4,
   "metadata": {},
   "outputs": [
    {
     "data": {
      "text/html": [
       "<div>\n",
       "<style scoped>\n",
       "    .dataframe tbody tr th:only-of-type {\n",
       "        vertical-align: middle;\n",
       "    }\n",
       "\n",
       "    .dataframe tbody tr th {\n",
       "        vertical-align: top;\n",
       "    }\n",
       "\n",
       "    .dataframe thead th {\n",
       "        text-align: right;\n",
       "    }\n",
       "</style>\n",
       "<table border=\"1\" class=\"dataframe\">\n",
       "  <thead>\n",
       "    <tr style=\"text-align: right;\">\n",
       "      <th></th>\n",
       "      <th>Open</th>\n",
       "      <th>High</th>\n",
       "      <th>Low</th>\n",
       "      <th>Close</th>\n",
       "      <th>Volume</th>\n",
       "    </tr>\n",
       "    <tr>\n",
       "      <th>Date Time</th>\n",
       "      <th></th>\n",
       "      <th></th>\n",
       "      <th></th>\n",
       "      <th></th>\n",
       "      <th></th>\n",
       "    </tr>\n",
       "  </thead>\n",
       "  <tbody>\n",
       "    <tr>\n",
       "      <th>2021-12-07 21:15:00</th>\n",
       "      <td>50732.0</td>\n",
       "      <td>50869.0</td>\n",
       "      <td>50623.0</td>\n",
       "      <td>50752.0</td>\n",
       "      <td>3.750577e+07</td>\n",
       "    </tr>\n",
       "    <tr>\n",
       "      <th>2021-12-07 21:30:00</th>\n",
       "      <td>50752.0</td>\n",
       "      <td>50805.0</td>\n",
       "      <td>50612.0</td>\n",
       "      <td>50707.0</td>\n",
       "      <td>1.748319e+07</td>\n",
       "    </tr>\n",
       "    <tr>\n",
       "      <th>2021-12-07 21:45:00</th>\n",
       "      <td>50707.0</td>\n",
       "      <td>50896.0</td>\n",
       "      <td>50481.0</td>\n",
       "      <td>50534.0</td>\n",
       "      <td>2.594089e+07</td>\n",
       "    </tr>\n",
       "    <tr>\n",
       "      <th>2021-12-07 22:00:00</th>\n",
       "      <td>50534.0</td>\n",
       "      <td>50579.0</td>\n",
       "      <td>50250.0</td>\n",
       "      <td>50318.0</td>\n",
       "      <td>5.315446e+07</td>\n",
       "    </tr>\n",
       "    <tr>\n",
       "      <th>2021-12-07 22:15:00</th>\n",
       "      <td>50318.0</td>\n",
       "      <td>50427.0</td>\n",
       "      <td>50050.0</td>\n",
       "      <td>50366.0</td>\n",
       "      <td>1.236814e+08</td>\n",
       "    </tr>\n",
       "  </tbody>\n",
       "</table>\n",
       "</div>"
      ],
      "text/plain": [
       "                        Open     High      Low    Close        Volume\n",
       "Date Time                                                            \n",
       "2021-12-07 21:15:00  50732.0  50869.0  50623.0  50752.0  3.750577e+07\n",
       "2021-12-07 21:30:00  50752.0  50805.0  50612.0  50707.0  1.748319e+07\n",
       "2021-12-07 21:45:00  50707.0  50896.0  50481.0  50534.0  2.594089e+07\n",
       "2021-12-07 22:00:00  50534.0  50579.0  50250.0  50318.0  5.315446e+07\n",
       "2021-12-07 22:15:00  50318.0  50427.0  50050.0  50366.0  1.236814e+08"
      ]
     },
     "execution_count": 4,
     "metadata": {},
     "output_type": "execute_result"
    }
   ],
   "source": [
    "df = get_data(\"BTC-PERP\")\n",
    "df.head()"
   ]
  },
  {
   "cell_type": "code",
   "execution_count": null,
   "metadata": {},
   "outputs": [],
   "source": []
  },
  {
   "cell_type": "markdown",
   "metadata": {},
   "source": []
  }
 ],
 "metadata": {
  "interpreter": {
   "hash": "ab1569f095359da01416b0bde8ec21b3b9ebc03f62351542fd6a801996ba84e6"
  },
  "kernelspec": {
   "display_name": "Python 3.9.7 64-bit ('.venv': venv)",
   "language": "python",
   "name": "python3"
  },
  "language_info": {
   "codemirror_mode": {
    "name": "ipython",
    "version": 3
   },
   "file_extension": ".py",
   "mimetype": "text/x-python",
   "name": "python",
   "nbconvert_exporter": "python",
   "pygments_lexer": "ipython3",
   "version": "3.9.7"
  },
  "orig_nbformat": 4
 },
 "nbformat": 4,
 "nbformat_minor": 2
}
